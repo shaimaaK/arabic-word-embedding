{
 "cells": [
  {
   "attachments": {},
   "cell_type": "markdown",
   "metadata": {
    "id": "Tn_HxBIowRI4"
   },
   "source": [
    "The syntax is taken from [github](https://github.com/maciejkula/glove-python/blob/master/glove/glove.py) and [medium article](https://medium.com/analytics-vidhya/word-vectorization-using-glove-76919685ee0b)"
   ]
  },
  {
   "cell_type": "code",
   "execution_count": 2,
   "metadata": {
    "colab": {
     "base_uri": "https://localhost:8080/"
    },
    "id": "sYHJC7fzY3By",
    "outputId": "4281b6e0-b040-4ff9-d0e5-b80973600658"
   },
   "outputs": [
    {
     "data": {
      "text/plain": [
       "1145442"
      ]
     },
     "execution_count": 2,
     "metadata": {},
     "output_type": "execute_result"
    }
   ],
   "source": [
    "with open(\"corpus_cleaned.txt\", 'r',encoding='utf-8') as f:\n",
    "    parsed_data=f.read()\n",
    "len(parsed_data)"
   ]
  },
  {
   "attachments": {},
   "cell_type": "markdown",
   "metadata": {
    "id": "rLRKpmnXfKXM"
   },
   "source": [
    "this library is taken from [github](https://github.com/maciejkula/glove-python) and the rest of the syntax is inspired by this [github](https://github.com/naoum-achraf/Arabic-Chatbot/blob/49f475236c2141b93386514fb51971dc4b96902f/WordEmbedding/WordEmbedding.ipynb)"
   ]
  },
  {
   "cell_type": "code",
   "execution_count": null,
   "metadata": {
    "id": "4SI9xGp89qKc"
   },
   "outputs": [],
   "source": [
    "data_corpus=parsed_data.split(\"\\n\")\n",
    "for sentence_ind in range(len(data_corpus)):\n",
    "    word_list=data_corpus[sentence_ind].split(\" \")\n",
    "    data_corpus[sentence_ind]=word_list"
   ]
  },
  {
   "cell_type": "code",
   "execution_count": null,
   "metadata": {
    "colab": {
     "base_uri": "https://localhost:8080/"
    },
    "id": "kym-rmcO-O-4",
    "outputId": "43ee2f21-1a5e-40bc-98a8-2244c1c86991"
   },
   "outputs": [
    {
     "name": "stdout",
     "output_type": "stream",
     "text": [
      "Looking in indexes: https://pypi.org/simple, https://us-python.pkg.dev/colab-wheels/public/simple/\n",
      "Collecting glove-python-binary\n",
      "  Downloading glove_python_binary-0.2.0-cp37-cp37m-manylinux1_x86_64.whl (948 kB)\n",
      "\u001b[K     |████████████████████████████████| 948 kB 5.2 MB/s \n",
      "\u001b[?25hRequirement already satisfied: numpy in /usr/local/lib/python3.7/dist-packages (from glove-python-binary) (1.21.6)\n",
      "Requirement already satisfied: scipy in /usr/local/lib/python3.7/dist-packages (from glove-python-binary) (1.7.3)\n",
      "Installing collected packages: glove-python-binary\n",
      "Successfully installed glove-python-binary-0.2.0\n",
      "Looking in indexes: https://pypi.org/simple, https://us-python.pkg.dev/colab-wheels/public/simple/\n",
      "Collecting arabic_reshaper\n",
      "  Downloading arabic_reshaper-2.1.4-py3-none-any.whl (20 kB)\n",
      "Requirement already satisfied: future in /usr/local/lib/python3.7/dist-packages (from arabic_reshaper) (0.16.0)\n",
      "Installing collected packages: arabic-reshaper\n",
      "Successfully installed arabic-reshaper-2.1.4\n",
      "Looking in indexes: https://pypi.org/simple, https://us-python.pkg.dev/colab-wheels/public/simple/\n",
      "Collecting python-bidi\n",
      "  Downloading python_bidi-0.4.2-py2.py3-none-any.whl (30 kB)\n",
      "Requirement already satisfied: six in /usr/local/lib/python3.7/dist-packages (from python-bidi) (1.15.0)\n",
      "Installing collected packages: python-bidi\n",
      "Successfully installed python-bidi-0.4.2\n"
     ]
    }
   ],
   "source": [
    "! pip install glove-python-binary\n",
    "! pip install arabic_reshaper\n",
    "! pip install python-bidi\n",
    "from glove import Corpus, Glove\n",
    "from bidi.algorithm import get_display"
   ]
  },
  {
   "cell_type": "code",
   "execution_count": null,
   "metadata": {
    "id": "a5iwgAdecxFr"
   },
   "outputs": [],
   "source": [
    "#parameter tuning\n",
    "window_list=[10,15, 20]\n",
    "learning_rate=[0.01,0.05]"
   ]
  },
  {
   "attachments": {},
   "cell_type": "markdown",
   "metadata": {
    "id": "2wcmuMHHdCUk"
   },
   "source": [
    "[link](https://colab.research.google.com/drive/1y_WThIBWR5X-PQ-H5d1fddH0Tl7yewrj#scrollTo=9DSsC6zb92Rj) , [link2](https://github.com/escherba/flaubert/blob/master/flaubert/pretrain.py)"
   ]
  },
  {
   "cell_type": "code",
   "execution_count": null,
   "metadata": {
    "colab": {
     "base_uri": "https://localhost:8080/"
    },
    "id": "9DSsC6zb92Rj",
    "outputId": "8eeda4ee-455a-4ae0-b6d5-d2d750a35f85"
   },
   "outputs": [
    {
     "name": "stdout",
     "output_type": "stream",
     "text": [
      "Performing 30 training epochs with 10 threads\n",
      "Epoch 0\n",
      "Epoch 1\n",
      "Epoch 2\n",
      "Epoch 3\n",
      "Epoch 4\n",
      "Epoch 5\n",
      "Epoch 6\n",
      "Epoch 7\n",
      "Epoch 8\n",
      "Epoch 9\n",
      "Epoch 10\n",
      "Epoch 11\n",
      "Epoch 12\n",
      "Epoch 13\n",
      "Epoch 14\n",
      "Epoch 15\n",
      "Epoch 16\n",
      "Epoch 17\n",
      "Epoch 18\n",
      "Epoch 19\n",
      "Epoch 20\n",
      "Epoch 21\n",
      "Epoch 22\n",
      "Epoch 23\n",
      "Epoch 24\n",
      "Epoch 25\n",
      "Epoch 26\n",
      "Epoch 27\n",
      "Epoch 28\n",
      "Epoch 29\n"
     ]
    }
   ],
   "source": [
    "#create GLoVE corpus object\n",
    "corpus = Corpus() \n",
    "\n",
    "#train the GLoVE using the ara\n",
    "corpus.fit(data_corpus, window=10)\n",
    "# int no_components: number of latent dimensions\n",
    "glove = Glove(no_components=100, learning_rate=0.05)\n",
    " \n",
    "glove.fit(corpus.matrix, epochs=30, no_threads=10, verbose=True)\n",
    "glove.add_dictionary(corpus.dictionary)\n",
    "\n",
    "#corpus.save('corpus.model')\n",
    "#glove.save('glove.model')"
   ]
  },
  {
   "cell_type": "code",
   "execution_count": null,
   "metadata": {
    "colab": {
     "base_uri": "https://localhost:8080/",
     "height": 17
    },
    "id": "Y3rM1F_KADbu",
    "outputId": "9f8dab2e-232f-42d0-a17d-ca645bba6086"
   },
   "outputs": [
    {
     "data": {
      "application/javascript": "\n    async function download(id, filename, size) {\n      if (!google.colab.kernel.accessAllowed) {\n        return;\n      }\n      const div = document.createElement('div');\n      const label = document.createElement('label');\n      label.textContent = `Downloading \"${filename}\": `;\n      div.appendChild(label);\n      const progress = document.createElement('progress');\n      progress.max = size;\n      div.appendChild(progress);\n      document.body.appendChild(div);\n\n      const buffers = [];\n      let downloaded = 0;\n\n      const channel = await google.colab.kernel.comms.open(id);\n      // Send a message to notify the kernel that we're ready.\n      channel.send({})\n\n      for await (const message of channel.messages) {\n        // Send a message to notify the kernel that we're ready.\n        channel.send({})\n        if (message.buffers) {\n          for (const buffer of message.buffers) {\n            buffers.push(buffer);\n            downloaded += buffer.byteLength;\n            progress.value = downloaded;\n          }\n        }\n      }\n      const blob = new Blob(buffers, {type: 'application/binary'});\n      const a = document.createElement('a');\n      a.href = window.URL.createObjectURL(blob);\n      a.download = filename;\n      div.appendChild(a);\n      a.click();\n      div.remove();\n    }\n  ",
      "text/plain": [
       "<IPython.core.display.Javascript object>"
      ]
     },
     "metadata": {},
     "output_type": "display_data"
    },
    {
     "data": {
      "application/javascript": "download(\"download_c027a91d-9597-412b-a972-20d311e37e8c\", \"corpus.model\", 108396620)",
      "text/plain": [
       "<IPython.core.display.Javascript object>"
      ]
     },
     "metadata": {},
     "output_type": "display_data"
    }
   ],
   "source": [
    "#load all(glove & corpus)\n",
    "glove1 = Glove.load('glove.model')\n",
    "corpus_model1 = Corpus.load('corpus.model')\n",
    "from google.colab import files\n",
    "files.download('corpus.model') \n"
   ]
  },
  {
   "cell_type": "code",
   "execution_count": null,
   "metadata": {
    "colab": {
     "base_uri": "https://localhost:8080/",
     "height": 17
    },
    "id": "aP8Ac5bD3YJ7",
    "outputId": "82e74b05-35f6-4cb5-cea6-4e87fe958872"
   },
   "outputs": [
    {
     "data": {
      "application/javascript": "\n    async function download(id, filename, size) {\n      if (!google.colab.kernel.accessAllowed) {\n        return;\n      }\n      const div = document.createElement('div');\n      const label = document.createElement('label');\n      label.textContent = `Downloading \"${filename}\": `;\n      div.appendChild(label);\n      const progress = document.createElement('progress');\n      progress.max = size;\n      div.appendChild(progress);\n      document.body.appendChild(div);\n\n      const buffers = [];\n      let downloaded = 0;\n\n      const channel = await google.colab.kernel.comms.open(id);\n      // Send a message to notify the kernel that we're ready.\n      channel.send({})\n\n      for await (const message of channel.messages) {\n        // Send a message to notify the kernel that we're ready.\n        channel.send({})\n        if (message.buffers) {\n          for (const buffer of message.buffers) {\n            buffers.push(buffer);\n            downloaded += buffer.byteLength;\n            progress.value = downloaded;\n          }\n        }\n      }\n      const blob = new Blob(buffers, {type: 'application/binary'});\n      const a = document.createElement('a');\n      a.href = window.URL.createObjectURL(blob);\n      a.download = filename;\n      div.appendChild(a);\n      a.click();\n      div.remove();\n    }\n  ",
      "text/plain": [
       "<IPython.core.display.Javascript object>"
      ]
     },
     "metadata": {},
     "output_type": "display_data"
    },
    {
     "data": {
      "application/javascript": "download(\"download_ab8c4e3b-7652-4456-9c17-a86df1e60488\", \"glove.model\", 177032835)",
      "text/plain": [
       "<IPython.core.display.Javascript object>"
      ]
     },
     "metadata": {},
     "output_type": "display_data"
    }
   ],
   "source": [
    "files.download('glove.model') "
   ]
  },
  {
   "cell_type": "code",
   "execution_count": null,
   "metadata": {
    "id": "IeMkfYR630VC"
   },
   "outputs": [],
   "source": [
    "glove.dictionary"
   ]
  },
  {
   "cell_type": "code",
   "execution_count": null,
   "metadata": {
    "colab": {
     "base_uri": "https://localhost:8080/"
    },
    "id": "pvJvFfYj_rtW",
    "outputId": "a315a2f3-3ad7-40f6-b5f1-2682fe0a4145"
   },
   "outputs": [
    {
     "data": {
      "text/plain": [
       "[('المراجع', 0.9182369760125035),\n",
       " ('خارجية', 0.9106354965170703),\n",
       " ('ملاحظات', 0.8940580689150369),\n",
       " ('وصلات', 0.8876852728067905),\n",
       " ('روابط', 0.8795613209991238),\n",
       " ('خارجي', 0.8322922967700522),\n",
       " ('مصادر', 0.8066459028970799),\n",
       " ('شصر', 0.7792792967488068),\n",
       " ('وبار', 0.7481168653421565)]"
      ]
     },
     "execution_count": 17,
     "metadata": {},
     "output_type": "execute_result"
    }
   ],
   "source": [
    "glove.most_similar('مراجع',number=10)"
   ]
  },
  {
   "cell_type": "code",
   "execution_count": null,
   "metadata": {
    "id": "yujijT6Ao0zd"
   },
   "outputs": [],
   "source": [
    "glove.dictionary.keys()"
   ]
  },
  {
   "cell_type": "code",
   "execution_count": null,
   "metadata": {
    "colab": {
     "base_uri": "https://localhost:8080/",
     "height": 176,
     "referenced_widgets": [
      "e4bfa34dd07949e4811a410ad95934a8",
      "de1a21d1a52e47b0a4f31efb9d16dff4",
      "4bf1dcfc17d74e22b2fc7a25ab0b3a1e",
      "ee51f227fa864f868847e1025ff861ad",
      "67269f2d7ad94ec599ef917429d67e04",
      "b411b864834e4fe491efb586891e08be",
      "a27388e631c74b9f9a46a7e82154d3a3",
      "bc3f6002a7624e158ea91a9329c53daa",
      "9be3fb5488f94a5e8681e1296938655d",
      "633a5f810ab2470d8e5f07fea81039ca",
      "6eee2d9262524d76983ea3886d9b6398"
     ]
    },
    "id": "GPODNy1lfHrT",
    "outputId": "d281343e-d8ef-4181-a0ba-4b7d2851102a"
   },
   "outputs": [
    {
     "name": "stdout",
     "output_type": "stream",
     "text": [
      "Looking in indexes: https://pypi.org/simple, https://us-python.pkg.dev/colab-wheels/public/simple/\n",
      "Requirement already satisfied: utils in /usr/local/lib/python3.7/dist-packages (1.0.1)\n",
      "36283 100\n"
     ]
    },
    {
     "name": "stderr",
     "output_type": "stream",
     "text": [
      "/usr/local/lib/python3.7/dist-packages/ipykernel_launcher.py:24: TqdmDeprecationWarning: This function will be removed in tqdm==5.0.0\n",
      "Please use `tqdm.notebook.tqdm` instead of `tqdm.tqdm_notebook`\n"
     ]
    },
    {
     "data": {
      "application/vnd.jupyter.widget-view+json": {
       "model_id": "e4bfa34dd07949e4811a410ad95934a8",
       "version_major": 2,
       "version_minor": 0
      },
      "text/plain": [
       "  0%|          | 0/36283 [00:00<?, ?it/s]"
      ]
     },
     "metadata": {},
     "output_type": "display_data"
    },
    {
     "name": "stderr",
     "output_type": "stream",
     "text": [
      "/usr/local/lib/python3.7/dist-packages/ipykernel_launcher.py:27: DeprecationWarning: tostring() is deprecated. Use tobytes() instead.\n"
     ]
    }
   ],
   "source": [
    "from gensim.models import KeyedVectors\n",
    "import gensim\n",
    "from tqdm import tqdm_notebook as tqdm\n",
    "import logging\n",
    "import logging.config\n",
    "import numpy as np\n",
    "wv=glove.word_vectors\n",
    "dict_glove=glove.dictionary\n",
    "save_word2vec_format(binary=True, fname='glovemodel.bin', vocab=Embedding_dictionary, vector_size=100)"
   ]
  },
  {
   "cell_type": "code",
   "execution_count": null,
   "metadata": {
    "id": "2m_dBW61oCsq"
   },
   "outputs": [],
   "source": [
    "Embedding_dictionary={}\n",
    "wv=glove.word_vectors\n",
    "for word in glove.dictionary.keys():\n",
    "  emb_vector=wv[glove.dictionary[word]] \n",
    "  Embedding_dictionary[word]=emb_vector\n",
    "\n",
    "# format of the GLoVE txt file is taken from https://radimrehurek.com/gensim/scripts/glove2word2vec.html"
   ]
  },
  {
   "cell_type": "code",
   "execution_count": null,
   "metadata": {
    "id": "t8geJ_VffxBu"
   },
   "outputs": [],
   "source": [
    "# taken from https://www.kaggle.com/code/matsuik/convert-embedding-dictionary-to-gensim-w2v-format\n",
    "def save_word2vec_format(fname, vocab, vector_size, binary=True):\n",
    "    \"\"\"Store the input-hidden weight matrix in the same format used by the original\n",
    "    C word2vec-tool, for compatibility.\n",
    "\n",
    "    Parameters\n",
    "    ----------\n",
    "    fname : str\n",
    "        The file path used to save the vectors in.\n",
    "    vocab : dict\n",
    "        The vocabulary of words.\n",
    "    vector_size : int\n",
    "        The number of dimensions of word vectors.\n",
    "    binary : bool, optional\n",
    "        If True, the data wil be saved in binary word2vec format, else it will be saved in plain text.\n",
    "\n",
    "\n",
    "    \"\"\"\n",
    "    \n",
    "    total_vec = len(vocab)\n",
    "    with gensim.utils.smart_open(fname, 'wb') as fout:\n",
    "        print(total_vec, vector_size)\n",
    "        fout.write(gensim.utils.to_utf8(\"%s %s\\n\" % (total_vec, vector_size)))\n",
    "        # store in sorted order: most frequent words at the top\n",
    "        for word, row in tqdm(vocab.items()):\n",
    "            if binary:\n",
    "                row = row.astype(np.float32)\n",
    "                fout.write(gensim.utils.to_utf8(word) + b\" \" + row.tostring())\n",
    "            else:\n",
    "                fout.write(gensim.utils.to_utf8(\"%s %s\\n\" % (word, ' '.join(repr(val) for val in row))))"
   ]
  },
  {
   "cell_type": "code",
   "execution_count": null,
   "metadata": {
    "id": "jqUBB_4wmurJ"
   },
   "outputs": [],
   "source": [
    "model = gensim.models.KeyedVectors.load_word2vec_format('glovemodel.bin', binary=True)"
   ]
  },
  {
   "cell_type": "code",
   "execution_count": null,
   "metadata": {
    "colab": {
     "base_uri": "https://localhost:8080/",
     "height": 109
    },
    "id": "pjbLBRl4t1y_",
    "outputId": "7e033e90-8fe5-4c8b-93b9-9ba01e426677"
   },
   "outputs": [
    {
     "name": "stderr",
     "output_type": "stream",
     "text": [
      "WARNING:gensim.models.keyedvectors:vectors for words {'مبايعتها'} are not present in the model, ignoring these words\n",
      "/usr/local/lib/python3.7/dist-packages/gensim/models/keyedvectors.py:895: FutureWarning: arrays to stack must be passed as a \"sequence\" type such as list or tuple. Support for non-sequence iterables such as generators is deprecated as of NumPy 1.16 and will raise an error in the future.\n",
      "  vectors = vstack(self.word_vec(word, use_norm=True) for word in used_words).astype(REAL)\n"
     ]
    },
    {
     "data": {
      "application/vnd.google.colaboratory.intrinsic+json": {
       "type": "string"
      },
      "text/plain": [
       "'الشريعة'"
      ]
     },
     "execution_count": 50,
     "metadata": {},
     "output_type": "execute_result"
    }
   ],
   "source": [
    "model.doesnt_match(['الشريعة','مبايعتها','مراجع'])"
   ]
  },
  {
   "cell_type": "code",
   "execution_count": null,
   "metadata": {
    "colab": {
     "base_uri": "https://localhost:8080/"
    },
    "id": "hVYUkifyt5id",
    "outputId": "50d11912-a5c2-41de-9772-d3f7ac6a6b34"
   },
   "outputs": [
    {
     "data": {
      "text/plain": [
       "0.012971852428957839"
      ]
     },
     "execution_count": 53,
     "metadata": {},
     "output_type": "execute_result"
    }
   ],
   "source": [
    "sentence1=\"اقرب مدرسة باتجاه الشمال الشرقي\"\n",
    "sentence2=\"اقرب منزل باتجاه الشمال الشرقي\"\n",
    "\n",
    "model.wmdistance(sentence1,sentence2)"
   ]
  },
  {
   "cell_type": "code",
   "execution_count": null,
   "metadata": {
    "colab": {
     "base_uri": "https://localhost:8080/"
    },
    "id": "a4Zz-mhQu8Pl",
    "outputId": "f7a26f33-30f2-48df-b924-4aaeec21d739"
   },
   "outputs": [
    {
     "data": {
      "text/plain": [
       "[('جبال', 0.9194415807723999),\n",
       " ('ولبنان', 0.9041147232055664),\n",
       " ('نيويورك', 0.8959730267524719),\n",
       " ('الروماني', 0.8920433521270752),\n",
       " ('وسوريا', 0.8917664885520935),\n",
       " ('بنية', 0.8898214101791382),\n",
       " ('نفط', 0.886930525302887),\n",
       " ('حيوان', 0.8861987590789795),\n",
       " ('بلدية', 0.8844066262245178),\n",
       " ('مركزا', 0.8836406469345093)]"
      ]
     },
     "execution_count": 58,
     "metadata": {},
     "output_type": "execute_result"
    }
   ],
   "source": [
    "model.most_similar(positive=[\"سوريا\",\"العاصمة\"], negative=[\"الدولة\"], topn=10)"
   ]
  },
  {
   "cell_type": "code",
   "execution_count": null,
   "metadata": {
    "id": "qtfbkYD8vDmM"
   },
   "outputs": [],
   "source": []
  },
  {
   "attachments": {},
   "cell_type": "markdown",
   "metadata": {
    "id": "votUABtxKsvP"
   },
   "source": [
    "#### Functions Definition"
   ]
  },
  {
   "cell_type": "code",
   "execution_count": 3,
   "metadata": {
    "id": "x8CGvbwlKvnT"
   },
   "outputs": [],
   "source": [
    "#this function removes the persentage from the tuple and just keeps the similar words in a list\n",
    "def extract_word_only(similar_words_vector):\n",
    "    list_similar_words=[]\n",
    "    for word,prob in similar_words_vector:\n",
    "        list_similar_words.append(word)\n",
    "    return list_similar_words"
   ]
  },
  {
   "cell_type": "code",
   "execution_count": 4,
   "metadata": {
    "id": "FCG4LwvpK1NU"
   },
   "outputs": [],
   "source": [
    "# create a function that creates a dataframe for each word embedding and 2 last column \n",
    "#0 (if original word), 1 (if similar words)\n",
    "# the last column is the text word as string\n",
    "def drawTSNE(model,EmbSize, w_original, w_similar):\n",
    "    # Step1: create embedding dataframe\n",
    "    ## create a nested list \n",
    "    data_list = []\n",
    "    word_text=[]\n",
    "    legend_text=[]\n",
    "    ##push word embedding for w_original \n",
    "    word_text.append(w_original)\n",
    "    legend_text.append(\"Original\")\n",
    "    org_wordEmb = wv[w_original].tolist()\n",
    "    org_row=org_wordEmb\n",
    "    data_list.append(org_row)\n",
    "    ##push word embedding for w_similar\n",
    "    for word in w_similar:\n",
    "        word_text.append(word)\n",
    "        legend_text.append(\"Similar\")\n",
    "        similar_wordEmb=wv[word].tolist()\n",
    "        similar_row=similar_wordEmb\n",
    "        data_list.append(similar_row)\n",
    "    #print(len(data_list)) = 11 words(1 org and 10 similar words)\n",
    "    \n",
    "\n",
    "    ##convert the nested list\n",
    "    \n",
    "    ### create the column vector\n",
    "    columns=[0]*(EmbSize)#300 elements\n",
    "    for i in range(EmbSize):#indx=0-229 , aka fill-in 300\n",
    "        columns[i]=\"Emb\"+str(i+1)\n",
    "    np_columns=np.array(columns,dtype=str)\n",
    "    \n",
    "    \n",
    "    ### convert the nested list to numpy array then to pandas dataframe\n",
    "    #(note) the expected size (rows(i.e. words) = 11, columns(i.e. embedding_mat+label) = 301)\n",
    "    data_nparray= np.array(data_list,dtype=float)\n",
    "    \n",
    "    df = pd.DataFrame(data_nparray, columns=columns)\n",
    "    df_labeled=df\n",
    "    df_labeled['Word']=legend_text\n",
    "    ## fix the way arabic printed backwards letters using arabic_reshaper\n",
    "    word_reshaped = [get_display(arabic_reshaper.reshape(word)) for word in word_text]\n",
    "\n",
    "    \n",
    "    \n",
    "    \n",
    "    #Step2: \n",
    "    tsne = TSNE(n_components=2, perplexity=40, n_iter=300,init='random',learning_rate='auto')\n",
    "    tsne_results = tsne.fit_transform(df.iloc[:,:-1])\n",
    "    df['tsne-2d-one'] = tsne_results[:,0]\n",
    "    df['tsne-2d-two'] = tsne_results[:,1]\n",
    "    fig, ax = plt.subplots()\n",
    "    sns.scatterplot(\n",
    "        x=\"tsne-2d-one\", y=\"tsne-2d-two\",\n",
    "        hue=\"Word\",\n",
    "        data=df_labeled\n",
    "    )\n",
    "    plt.grid()\n",
    "    plt.title('T-SNE of the Keyword and its similar words')\n",
    "    # Set x-axis label\n",
    "    plt.xlabel('T-SNE X-axis ')\n",
    "    # Set y-axis label\n",
    "    plt.ylabel('T-SNE Y-axis')\n",
    "    for i, txt in enumerate(word_reshaped):\n",
    "        ax.annotate(txt, (df['tsne-2d-one'].iloc[i], df['tsne-2d-two'].iloc[i]))\n",
    "\n"
   ]
  },
  {
   "attachments": {},
   "cell_type": "markdown",
   "metadata": {
    "id": "wvUG8f-EKPvm"
   },
   "source": [
    "##Test 1: Most Similar Words\n",
    "Find the top-N most similar words. Positive words contribute positively towards the similarity, negative words negatively. [link](https://tedboy.github.io/nlps/generated/generated/gensim.models.Word2Vec.most_similar.html#gensim.models.Word2Vec.most_similar)<br>\n",
    "- Pick 8 Arabic words and, for each one, ask each model about\n",
    "the **most similar 10 words to it. Plot the results using t-SNE** (or scatterplot) and discuss\n",
    "them\n",
    "<hr>"
   ]
  },
  {
   "attachments": {},
   "cell_type": "markdown",
   "metadata": {
    "id": "MebOtTHDKlPI"
   },
   "source": [
    "<strong>Syntax</strong> <br>\n",
    "[documentation](https://tedboy.github.io/nlps/generated/generated/gensim.models.Word2Vec.most_similar.html#gensim.models.Word2Vec.most_similar)\n",
    "<br>\n",
    "Word2Vec.most_similar(positive=[], negative=[], topn=10, restrict_vocab=None, indexer=None)"
   ]
  },
  {
   "attachments": {},
   "cell_type": "markdown",
   "id": "d347fe2e",
   "metadata": {},
   "source": [
    "**Phase 2: Test the following 8 arabic words**\n",
    "1. مراجع\n",
    "2. الإسلامية\n",
    "3. ابن\n",
    "4. يوم\n",
    "5. عقد\n",
    "6. كبيرة\n",
    "7. وجود"
   ]
  },
  {
   "cell_type": "code",
   "execution_count": 38,
   "id": "e7e14e00",
   "metadata": {
    "collapsed": true
   },
   "outputs": [
    {
     "data": {
      "image/png": "[encoded data removed]",
      "text/plain": [
       "<Figure size 432x288 with 1 Axes>"
      ]
     },
     "metadata": {
      "needs_background": "light"
     },
     "output_type": "display_data"
    }
   ],
   "source": [
    "#word1 : مراجع\n",
    "similar_words_vector=wv.most_similar(positive=[\"مراجع\"])\n",
    "similar_words=extract_word_only(similar_words_vector)\n",
    "\n",
    "drawTSNE(wv,300, \"مراجع\",similar_words )\n",
    "similar_words_vector"
   ]
  },
  {
   "cell_type": "code",
   "execution_count": 35,
   "id": "bedd0346",
   "metadata": {
    "collapsed": true
   },
   "outputs": [
    {
     "data": {
      "text/plain": [
       "[('الاسلامية', 0.7955662608146667),\n",
       " ('الأسلامية', 0.6608451008796692),\n",
       " ('الإسلامي', 0.6469407081604004),\n",
       " ('الشريعة', 0.6326825618743896),\n",
       " ('إسلامية', 0.5891441702842712),\n",
       " ('بداعش', 0.5887125134468079),\n",
       " ('مبايعتها', 0.5789318084716797),\n",
       " ('الدعوة', 0.5779323577880859),\n",
       " ('داعش', 0.5721006393432617),\n",
       " ('الشيعية', 0.5647082328796387)]"
      ]
     },
     "execution_count": 35,
     "metadata": {},
     "output_type": "execute_result"
    }
   ],
   "source": [
    "#word2 :الإسلامية\n",
    "similar_words_vector=wv.most_similar(positive=[\"الإسلامية\"])\n",
    "similar_words=extract_word_only(similar_words_vector)\n",
    "\n",
    "drawTSNE(wv,300, \"الإسلامية\",similar_words )\n",
    "similar_words_vector"
   ]
  },
  {
   "cell_type": "code",
   "execution_count": 38,
   "id": "0fee0d56",
   "metadata": {
    "collapsed": true
   },
   "outputs": [
    {
     "data": {
      "image/png": "[encoded data removed]",
      "text/plain": [
       "<Figure size 432x288 with 1 Axes>"
      ]
     },
     "metadata": {
      "needs_background": "light"
     },
     "output_type": "display_data"
    }
   ],
   "source": [
    "#word3 : ابن\n",
    "\n",
    "similar_words_vector=wv.most_similar(positive=[\"ابن\"])\n",
    "similar_words=extract_word_only(similar_words_vector)\n",
    "\n",
    "drawTSNE(wv,300, \"ابن\",similar_words )\n",
    "similar_words_vector"
   ]
  },
  {
   "cell_type": "code",
   "execution_count": 38,
   "id": "d19d4dd8",
   "metadata": {
    "collapsed": true
   },
   "outputs": [
    {
     "data": {
      "image/png": "[encoded data removed]",
      "text/plain": [
       "<Figure size 432x288 with 1 Axes>"
      ]
     },
     "metadata": {
      "needs_background": "light"
     },
     "output_type": "display_data"
    }
   ],
   "source": [
    "#word4 : يوم\n",
    "similar_words_vector=wv.most_similar(positive=[\"يوم\"])\n",
    "similar_words=extract_word_only(similar_words_vector)\n",
    "\n",
    "drawTSNE(wv,300, \"يوم\",similar_words )\n",
    "similar_words_vector"
   ]
  },
  {
   "cell_type": "code",
   "execution_count": 38,
   "id": "b29a89e4",
   "metadata": {
    "collapsed": true
   },
   "outputs": [
    {
     "data": {
      "image/png": "[encoded data removed]",
      "text/plain": [
       "<Figure size 432x288 with 1 Axes>"
      ]
     },
     "metadata": {
      "needs_background": "light"
     },
     "output_type": "display_data"
    }
   ],
   "source": [
    "#word5 : عقد\n",
    "similar_words_vector=wv.most_similar(positive=[\"الإمارات\"])\n",
    "similar_words=extract_word_only(similar_words_vector)\n",
    "\n",
    "drawTSNE(wv,300, \"عقد\",similar_words )\n",
    "similar_words_vector"
   ]
  },
  {
   "cell_type": "code",
   "execution_count": 35,
   "id": "7c341af3",
   "metadata": {
    "collapsed": true
   },
   "outputs": [
    {
     "data": {
      "text/plain": [
       "[('الاسلامية', 0.7955662608146667),\n",
       " ('الأسلامية', 0.6608451008796692),\n",
       " ('الإسلامي', 0.6469407081604004),\n",
       " ('الشريعة', 0.6326825618743896),\n",
       " ('إسلامية', 0.5891441702842712),\n",
       " ('بداعش', 0.5887125134468079),\n",
       " ('مبايعتها', 0.5789318084716797),\n",
       " ('الدعوة', 0.5779323577880859),\n",
       " ('داعش', 0.5721006393432617),\n",
       " ('الشيعية', 0.5647082328796387)]"
      ]
     },
     "execution_count": 35,
     "metadata": {},
     "output_type": "execute_result"
    }
   ],
   "source": [
    "#word6 :كبيرة\n",
    "similar_words_vector=wv.most_similar(positive=[\"كبيرة\"])\n",
    "similar_words=extract_word_only(similar_words_vector)\n",
    "\n",
    "drawTSNE(wv,300, \"كبيرة\",similar_words )\n",
    "similar_words_vector"
   ]
  },
  {
   "cell_type": "code",
   "execution_count": 35,
   "id": "e1cf7e82",
   "metadata": {
    "collapsed": true
   },
   "outputs": [
    {
     "data": {
      "text/plain": [
       "[('الاسلامية', 0.7955662608146667),\n",
       " ('الأسلامية', 0.6608451008796692),\n",
       " ('الإسلامي', 0.6469407081604004),\n",
       " ('الشريعة', 0.6326825618743896),\n",
       " ('إسلامية', 0.5891441702842712),\n",
       " ('بداعش', 0.5887125134468079),\n",
       " ('مبايعتها', 0.5789318084716797),\n",
       " ('الدعوة', 0.5779323577880859),\n",
       " ('داعش', 0.5721006393432617),\n",
       " ('الشيعية', 0.5647082328796387)]"
      ]
     },
     "execution_count": 35,
     "metadata": {},
     "output_type": "execute_result"
    }
   ],
   "source": [
    "#word7 :وجود\n",
    "similar_words_vector=wv.most_similar(positive=[\"الإسلامية\"])\n",
    "similar_words=extract_word_only(similar_words_vector)\n",
    "\n",
    "drawTSNE(wv,300, \"الإسلامية\",similar_words )\n",
    "similar_words_vector"
   ]
  },
  {
   "attachments": {},
   "cell_type": "markdown",
   "id": "e7aace5c",
   "metadata": {},
   "source": [
    "## Test2: Odd-One-Out\n",
    "- we ask our model to give us the word that does not belong to the list [doc](https://tedboy.github.io/nlps/generated/generated/gensim.models.Word2Vec.doesnt_match.html#gensim.models.Word2Vec.doesnt_match)\n",
    "<br>\n",
    "- TASK: pick **5-10 triplets** of Arabic words and, for each one, ask each model to\n",
    "pick the word in the triplet that does not belong to it. Discuss the results."
   ]
  },
  {
   "cell_type": "code",
   "execution_count": 39,
   "id": "4346458a",
   "metadata": {
    "collapsed": true
   },
   "outputs": [
    {
     "data": {
      "text/plain": [
       "'مراجع'"
      ]
     },
     "execution_count": 39,
     "metadata": {},
     "output_type": "execute_result"
    }
   ],
   "source": [
    "#triplet 1\n",
    "diff=wv.doesnt_match(['الشريعة','مبايعتها','مراجع'])\n",
    "\n",
    "similar_words=['الشريعة','مبايعتها']\n",
    "\n",
    "drawTSNE(wv,300, diff,similar_words)"
   ]
  },
  {
   "cell_type": "code",
   "execution_count": 39,
   "id": "c83abd82",
   "metadata": {
    "collapsed": true
   },
   "outputs": [
    {
     "data": {
      "text/plain": [
       "'مراجع'"
      ]
     },
     "execution_count": 39,
     "metadata": {},
     "output_type": "execute_result"
    }
   ],
   "source": [
    "#triplet 2\n",
    "diff=wv.doesnt_match(['الشريعة','سنة','يوم'])\n",
    "\n",
    "similar_words=['سنة','يوم']\n",
    "\n",
    "drawTSNE(wv,300, diff,similar_words)"
   ]
  },
  {
   "cell_type": "code",
   "execution_count": 39,
   "id": "0be52f93",
   "metadata": {
    "collapsed": true
   },
   "outputs": [
    {
     "data": {
      "text/plain": [
       "'مراجع'"
      ]
     },
     "execution_count": 39,
     "metadata": {},
     "output_type": "execute_result"
    }
   ],
   "source": [
    "#triplet 3\n",
    "diff=wv.doesnt_match(['أغسطس','ديسمبر','دور'])\n",
    "\n",
    "similar_words=['أغسطس','ديسمبر']\n",
    "\n",
    "drawTSNE(wv,300, diff,similar_words)"
   ]
  },
  {
   "cell_type": "code",
   "execution_count": 39,
   "id": "486e4454",
   "metadata": {
    "collapsed": true
   },
   "outputs": [
    {
     "data": {
      "text/plain": [
       "'مراجع'"
      ]
     },
     "execution_count": 39,
     "metadata": {},
     "output_type": "execute_result"
    }
   ],
   "source": [
    "#triplet 4\n",
    "diff=wv.doesnt_match(['العلمي','مصادر','سطح'])\n",
    "\n",
    "similar_words=['العلمي','مصادر']\n",
    "\n",
    "drawTSNE(wv,300, diff,similar_words)"
   ]
  },
  {
   "cell_type": "code",
   "execution_count": 39,
   "id": "ea30b75f",
   "metadata": {
    "collapsed": true
   },
   "outputs": [
    {
     "data": {
      "text/plain": [
       "'مراجع'"
      ]
     },
     "execution_count": 39,
     "metadata": {},
     "output_type": "execute_result"
    }
   ],
   "source": [
    "#triplet 5\n",
    "diff=wv.doesnt_match(['حرب','سلام','العسكرية'])\n",
    "\n",
    "similar_words=['حرب','سلام']\n",
    "\n",
    "drawTSNE(wv,300, diff,similar_words)"
   ]
  },
  {
   "attachments": {},
   "cell_type": "markdown",
   "id": "425dcf25",
   "metadata": {},
   "source": [
    "## Test3: Measuring Sentence Similarity\n",
    "Find the Sentences similar to each other by computing the **cosine similarity** function of the two embedding vectors as in [Paul Minogue blog](https://paulminogue.com/index.php/2019/09/29/introduction-to-cosine-similarity/)<br>\n",
    "Note : **pyemd is a dependency of wmdistance**\n",
    "\n",
    "\n",
    "<br>write **5 sentences in Arabic**. For each sentence, **pick 2-3\n",
    "words and replace them with their synonyms or antonyms**. Use your embeddings to\n",
    "compute the similarity between each sentence and its modified version. Discuss the\n",
    "results"
   ]
  },
  {
   "cell_type": "code",
   "execution_count": null,
   "id": "e14a7c4c",
   "metadata": {},
   "outputs": [],
   "source": [
    "sentence1=\"اقرب منزل باتجاه الشمال الغربي\"\n",
    "sentence2=\"اقرب منزل باتجاه الشمال الشرقي\"\n",
    "\n",
    "similarity = wv.wmdistance(sentence1,sentence2)"
   ]
  },
  {
   "cell_type": "code",
   "execution_count": null,
   "id": "6a62c7ac",
   "metadata": {},
   "outputs": [],
   "source": [
    "sentence1=\"ابعد منزل باتجاه الجنوب الشرقي\"\n",
    "sentence2=\"اقرب منزل باتجاه الشمال الشرقي\"\n",
    "\n",
    "similarity = wv.wmdistance(sentence1,sentence2)"
   ]
  },
  {
   "cell_type": "code",
   "execution_count": null,
   "id": "7f07fef8",
   "metadata": {},
   "outputs": [],
   "source": [
    "sentence1=\"الامارات العربية المتحدة تقع في العالم العربي\"\n",
    "sentence2=\" الولايات المتحدة تقع في العالم الغربي\"\n",
    "\n",
    "similarity = wv.wmdistance(sentence1,sentence2)"
   ]
  },
  {
   "cell_type": "code",
   "execution_count": null,
   "id": "9d2bddca",
   "metadata": {},
   "outputs": [],
   "source": [
    "sentence1=\"تتكون السنة من شهور\"\n",
    "sentence2=\"تتكون الشهر من اسابيع\"\n",
    "\n",
    "similarity = wv.wmdistance(sentence1,sentence2)"
   ]
  },
  {
   "cell_type": "code",
   "execution_count": 40,
   "id": "937b0d01",
   "metadata": {
    "collapsed": true
   },
   "outputs": [
    {
     "ename": "KeyError",
     "evalue": "\"Key 'homer' not present\"",
     "output_type": "error",
     "traceback": [
      "\u001b[1;31m---------------------------------------------------------------------------\u001b[0m",
      "\u001b[1;31mKeyError\u001b[0m                                  Traceback (most recent call last)",
      "Input \u001b[1;32mIn [40]\u001b[0m, in \u001b[0;36m<cell line: 1>\u001b[1;34m()\u001b[0m\n\u001b[1;32m----> 1\u001b[0m \u001b[43mwv\u001b[49m\u001b[38;5;241;43m.\u001b[39;49m\u001b[43mmost_similar\u001b[49m\u001b[43m(\u001b[49m\u001b[43mpositive\u001b[49m\u001b[38;5;241;43m=\u001b[39;49m\u001b[43m[\u001b[49m\u001b[38;5;124;43m\"\u001b[39;49m\u001b[38;5;124;43mhomer\u001b[39;49m\u001b[38;5;124;43m\"\u001b[39;49m\u001b[43m]\u001b[49m\u001b[43m)\u001b[49m\n",
      "File \u001b[1;32mC:\\ProgramData\\Anaconda3\\lib\\site-packages\\gensim\\models\\keyedvectors.py:773\u001b[0m, in \u001b[0;36mKeyedVectors.most_similar\u001b[1;34m(self, positive, negative, topn, clip_start, clip_end, restrict_vocab, indexer)\u001b[0m\n\u001b[0;32m    771\u001b[0m     mean\u001b[38;5;241m.\u001b[39mappend(weight \u001b[38;5;241m*\u001b[39m key)\n\u001b[0;32m    772\u001b[0m \u001b[38;5;28;01melse\u001b[39;00m:\n\u001b[1;32m--> 773\u001b[0m     mean\u001b[38;5;241m.\u001b[39mappend(weight \u001b[38;5;241m*\u001b[39m \u001b[38;5;28;43mself\u001b[39;49m\u001b[38;5;241;43m.\u001b[39;49m\u001b[43mget_vector\u001b[49m\u001b[43m(\u001b[49m\u001b[43mkey\u001b[49m\u001b[43m,\u001b[49m\u001b[43m \u001b[49m\u001b[43mnorm\u001b[49m\u001b[38;5;241;43m=\u001b[39;49m\u001b[38;5;28;43;01mTrue\u001b[39;49;00m\u001b[43m)\u001b[49m)\n\u001b[0;32m    774\u001b[0m     \u001b[38;5;28;01mif\u001b[39;00m \u001b[38;5;28mself\u001b[39m\u001b[38;5;241m.\u001b[39mhas_index_for(key):\n\u001b[0;32m    775\u001b[0m         all_keys\u001b[38;5;241m.\u001b[39madd(\u001b[38;5;28mself\u001b[39m\u001b[38;5;241m.\u001b[39mget_index(key))\n",
      "File \u001b[1;32mC:\\ProgramData\\Anaconda3\\lib\\site-packages\\gensim\\models\\keyedvectors.py:438\u001b[0m, in \u001b[0;36mKeyedVectors.get_vector\u001b[1;34m(self, key, norm)\u001b[0m\n\u001b[0;32m    414\u001b[0m \u001b[38;5;28;01mdef\u001b[39;00m \u001b[38;5;21mget_vector\u001b[39m(\u001b[38;5;28mself\u001b[39m, key, norm\u001b[38;5;241m=\u001b[39m\u001b[38;5;28;01mFalse\u001b[39;00m):\n\u001b[0;32m    415\u001b[0m     \u001b[38;5;124;03m\"\"\"Get the key's vector, as a 1D numpy array.\u001b[39;00m\n\u001b[0;32m    416\u001b[0m \n\u001b[0;32m    417\u001b[0m \u001b[38;5;124;03m    Parameters\u001b[39;00m\n\u001b[1;32m   (...)\u001b[0m\n\u001b[0;32m    436\u001b[0m \n\u001b[0;32m    437\u001b[0m \u001b[38;5;124;03m    \"\"\"\u001b[39;00m\n\u001b[1;32m--> 438\u001b[0m     index \u001b[38;5;241m=\u001b[39m \u001b[38;5;28;43mself\u001b[39;49m\u001b[38;5;241;43m.\u001b[39;49m\u001b[43mget_index\u001b[49m\u001b[43m(\u001b[49m\u001b[43mkey\u001b[49m\u001b[43m)\u001b[49m\n\u001b[0;32m    439\u001b[0m     \u001b[38;5;28;01mif\u001b[39;00m norm:\n\u001b[0;32m    440\u001b[0m         \u001b[38;5;28mself\u001b[39m\u001b[38;5;241m.\u001b[39mfill_norms()\n",
      "File \u001b[1;32mC:\\ProgramData\\Anaconda3\\lib\\site-packages\\gensim\\models\\keyedvectors.py:412\u001b[0m, in \u001b[0;36mKeyedVectors.get_index\u001b[1;34m(self, key, default)\u001b[0m\n\u001b[0;32m    410\u001b[0m     \u001b[38;5;28;01mreturn\u001b[39;00m default\n\u001b[0;32m    411\u001b[0m \u001b[38;5;28;01melse\u001b[39;00m:\n\u001b[1;32m--> 412\u001b[0m     \u001b[38;5;28;01mraise\u001b[39;00m \u001b[38;5;167;01mKeyError\u001b[39;00m(\u001b[38;5;124mf\u001b[39m\u001b[38;5;124m\"\u001b[39m\u001b[38;5;124mKey \u001b[39m\u001b[38;5;124m'\u001b[39m\u001b[38;5;132;01m{\u001b[39;00mkey\u001b[38;5;132;01m}\u001b[39;00m\u001b[38;5;124m'\u001b[39m\u001b[38;5;124m not present\u001b[39m\u001b[38;5;124m\"\u001b[39m)\n",
      "\u001b[1;31mKeyError\u001b[0m: \"Key 'homer' not present\""
     ]
    }
   ],
   "source": [
    "sentence2=\"اقرب مدرسة باتجاه الشمال الشرقي\"\"\n",
    "sentence2=\"اقرب منزل باتجاه الشمال الشرقي\"\n",
    "\n",
    "\n",
    "similarity = wv.wmdistance(sentence1,sentence2)"
   ]
  },
  {
   "attachments": {},
   "cell_type": "markdown",
   "id": "808efba5",
   "metadata": {},
   "source": [
    "## Test4: Analogy\n",
    "- Syntax in [link](https://tedboy.github.io/nlps/generated/generated/gensim.models.Word2Vec.doesnt_match.html#gensim.models.Word2Vec.doesnt_match)\n",
    "- pick 5-10 cases of analogies in Arabic, like the one we used in class:"
   ]
  },
  {
   "cell_type": "code",
   "execution_count": null,
   "id": "883a3991",
   "metadata": {},
   "outputs": [],
   "source": [
    "#Anallogy1\n",
    "wv.most_similar(positive=[\"يناير\", \"ثلاثة\"], negative=[\"مارس\"], topn=10)"
   ]
  },
  {
   "cell_type": "code",
   "execution_count": 41,
   "id": "abfda543",
   "metadata": {
    "collapsed": true
   },
   "outputs": [
    {
     "data": {
      "text/plain": [
       "[('للرئيس', 0.5080066323280334),\n",
       " ('باراك', 0.49067333340644836),\n",
       " ('كوزيرة', 0.48039859533309937),\n",
       " ('يوكوتا', 0.47324714064598083),\n",
       " ('أوباما', 0.4669496417045593),\n",
       " ('كمرشحة', 0.46538347005844116),\n",
       " ('للمرشحة', 0.4591633081436157),\n",
       " ('بوزيرة', 0.456716924905777),\n",
       " ('إعتذرت', 0.45361462235450745),\n",
       " ('مهريبان', 0.45299050211906433)]"
      ]
     },
     "execution_count": 41,
     "metadata": {},
     "output_type": "execute_result"
    }
   ],
   "source": [
    "#Anallogy2\n",
    "wv.most_similar(positive=[\"مصر\",\"الأمريكية\"], negative=[\"أمريكا\"], topn=10)"
   ]
  },
  {
   "cell_type": "code",
   "execution_count": 41,
   "id": "c53fa026",
   "metadata": {
    "collapsed": true
   },
   "outputs": [
    {
     "data": {
      "text/plain": [
       "[('للرئيس', 0.5080066323280334),\n",
       " ('باراك', 0.49067333340644836),\n",
       " ('كوزيرة', 0.48039859533309937),\n",
       " ('يوكوتا', 0.47324714064598083),\n",
       " ('أوباما', 0.4669496417045593),\n",
       " ('كمرشحة', 0.46538347005844116),\n",
       " ('للمرشحة', 0.4591633081436157),\n",
       " ('بوزيرة', 0.456716924905777),\n",
       " ('إعتذرت', 0.45361462235450745),\n",
       " ('مهريبان', 0.45299050211906433)]"
      ]
     },
     "execution_count": 41,
     "metadata": {},
     "output_type": "execute_result"
    }
   ],
   "source": [
    "#Anallogy3\n",
    "wv.most_similar(positive=[\"سوريا\",\"العاصمة\"], negative=[\"الدولة\"], topn=10)"
   ]
  },
  {
   "cell_type": "code",
   "execution_count": 41,
   "id": "a43497dc",
   "metadata": {
    "collapsed": true
   },
   "outputs": [
    {
     "data": {
      "text/plain": [
       "[('للرئيس', 0.5080066323280334),\n",
       " ('باراك', 0.49067333340644836),\n",
       " ('كوزيرة', 0.48039859533309937),\n",
       " ('يوكوتا', 0.47324714064598083),\n",
       " ('أوباما', 0.4669496417045593),\n",
       " ('كمرشحة', 0.46538347005844116),\n",
       " ('للمرشحة', 0.4591633081436157),\n",
       " ('بوزيرة', 0.456716924905777),\n",
       " ('إعتذرت', 0.45361462235450745),\n",
       " ('مهريبان', 0.45299050211906433)]"
      ]
     },
     "execution_count": 41,
     "metadata": {},
     "output_type": "execute_result"
    }
   ],
   "source": [
    "#Anallogy4\n",
    "wv.most_similar(positive=[\"قصيرة\", \"الكبيرة\"], negative=[\"صغيرة\"], topn=10)"
   ]
  },
  {
   "cell_type": "code",
   "execution_count": 41,
   "id": "a997e1f7",
   "metadata": {
    "collapsed": true
   },
   "outputs": [
    {
     "data": {
      "text/plain": [
       "[('للرئيس', 0.5080066323280334),\n",
       " ('باراك', 0.49067333340644836),\n",
       " ('كوزيرة', 0.48039859533309937),\n",
       " ('يوكوتا', 0.47324714064598083),\n",
       " ('أوباما', 0.4669496417045593),\n",
       " ('كمرشحة', 0.46538347005844116),\n",
       " ('للمرشحة', 0.4591633081436157),\n",
       " ('بوزيرة', 0.456716924905777),\n",
       " ('إعتذرت', 0.45361462235450745),\n",
       " ('مهريبان', 0.45299050211906433)]"
      ]
     },
     "execution_count": 41,
     "metadata": {},
     "output_type": "execute_result"
    }
   ],
   "source": [
    "#Anallogy5\n",
    "wv.most_similar(positive=[\"أمريكا\", \"شرق\"], negative=[\"العرب\"], topn=10) #الوطنية"
   ]
  }
 ],
 "metadata": {
  "colab": {
   "collapsed_sections": [],
   "provenance": []
  },
  "kernelspec": {
   "display_name": "Python 3 (ipykernel)",
   "language": "python",
   "name": "python3"
  },
  "language_info": {
   "codemirror_mode": {
    "name": "ipython",
    "version": 3
   },
   "file_extension": ".py",
   "mimetype": "text/x-python",
   "name": "python",
   "nbconvert_exporter": "python",
   "pygments_lexer": "ipython3",
   "version": "3.9.12"
  },
  "widgets": {
   "application/vnd.jupyter.widget-state+json": {
    "4bf1dcfc17d74e22b2fc7a25ab0b3a1e": {
     "model_module": "@jupyter-widgets/controls",
     "model_module_version": "1.5.0",
     "model_name": "FloatProgressModel",
     "state": {
      "_dom_classes": [],
      "_model_module": "@jupyter-widgets/controls",
      "_model_module_version": "1.5.0",
      "_model_name": "FloatProgressModel",
      "_view_count": null,
      "_view_module": "@jupyter-widgets/controls",
      "_view_module_version": "1.5.0",
      "_view_name": "ProgressView",
      "bar_style": "success",
      "description": "",
      "description_tooltip": null,
      "layout": "IPY_MODEL_bc3f6002a7624e158ea91a9329c53daa",
      "max": 36283,
      "min": 0,
      "orientation": "horizontal",
      "style": "IPY_MODEL_9be3fb5488f94a5e8681e1296938655d",
      "value": 36283
     }
    },
    "633a5f810ab2470d8e5f07fea81039ca": {
     "model_module": "@jupyter-widgets/base",
     "model_module_version": "1.2.0",
     "model_name": "LayoutModel",
     "state": {
      "_model_module": "@jupyter-widgets/base",
      "_model_module_version": "1.2.0",
      "_model_name": "LayoutModel",
      "_view_count": null,
      "_view_module": "@jupyter-widgets/base",
      "_view_module_version": "1.2.0",
      "_view_name": "LayoutView",
      "align_content": null,
      "align_items": null,
      "align_self": null,
      "border": null,
      "bottom": null,
      "display": null,
      "flex": null,
      "flex_flow": null,
      "grid_area": null,
      "grid_auto_columns": null,
      "grid_auto_flow": null,
      "grid_auto_rows": null,
      "grid_column": null,
      "grid_gap": null,
      "grid_row": null,
      "grid_template_areas": null,
      "grid_template_columns": null,
      "grid_template_rows": null,
      "height": null,
      "justify_content": null,
      "justify_items": null,
      "left": null,
      "margin": null,
      "max_height": null,
      "max_width": null,
      "min_height": null,
      "min_width": null,
      "object_fit": null,
      "object_position": null,
      "order": null,
      "overflow": null,
      "overflow_x": null,
      "overflow_y": null,
      "padding": null,
      "right": null,
      "top": null,
      "visibility": null,
      "width": null
     }
    },
    "67269f2d7ad94ec599ef917429d67e04": {
     "model_module": "@jupyter-widgets/base",
     "model_module_version": "1.2.0",
     "model_name": "LayoutModel",
     "state": {
      "_model_module": "@jupyter-widgets/base",
      "_model_module_version": "1.2.0",
      "_model_name": "LayoutModel",
      "_view_count": null,
      "_view_module": "@jupyter-widgets/base",
      "_view_module_version": "1.2.0",
      "_view_name": "LayoutView",
      "align_content": null,
      "align_items": null,
      "align_self": null,
      "border": null,
      "bottom": null,
      "display": null,
      "flex": null,
      "flex_flow": null,
      "grid_area": null,
      "grid_auto_columns": null,
      "grid_auto_flow": null,
      "grid_auto_rows": null,
      "grid_column": null,
      "grid_gap": null,
      "grid_row": null,
      "grid_template_areas": null,
      "grid_template_columns": null,
      "grid_template_rows": null,
      "height": null,
      "justify_content": null,
      "justify_items": null,
      "left": null,
      "margin": null,
      "max_height": null,
      "max_width": null,
      "min_height": null,
      "min_width": null,
      "object_fit": null,
      "object_position": null,
      "order": null,
      "overflow": null,
      "overflow_x": null,
      "overflow_y": null,
      "padding": null,
      "right": null,
      "top": null,
      "visibility": null,
      "width": null
     }
    },
    "6eee2d9262524d76983ea3886d9b6398": {
     "model_module": "@jupyter-widgets/controls",
     "model_module_version": "1.5.0",
     "model_name": "DescriptionStyleModel",
     "state": {
      "_model_module": "@jupyter-widgets/controls",
      "_model_module_version": "1.5.0",
      "_model_name": "DescriptionStyleModel",
      "_view_count": null,
      "_view_module": "@jupyter-widgets/base",
      "_view_module_version": "1.2.0",
      "_view_name": "StyleView",
      "description_width": ""
     }
    },
    "9be3fb5488f94a5e8681e1296938655d": {
     "model_module": "@jupyter-widgets/controls",
     "model_module_version": "1.5.0",
     "model_name": "ProgressStyleModel",
     "state": {
      "_model_module": "@jupyter-widgets/controls",
      "_model_module_version": "1.5.0",
      "_model_name": "ProgressStyleModel",
      "_view_count": null,
      "_view_module": "@jupyter-widgets/base",
      "_view_module_version": "1.2.0",
      "_view_name": "StyleView",
      "bar_color": null,
      "description_width": ""
     }
    },
    "a27388e631c74b9f9a46a7e82154d3a3": {
     "model_module": "@jupyter-widgets/controls",
     "model_module_version": "1.5.0",
     "model_name": "DescriptionStyleModel",
     "state": {
      "_model_module": "@jupyter-widgets/controls",
      "_model_module_version": "1.5.0",
      "_model_name": "DescriptionStyleModel",
      "_view_count": null,
      "_view_module": "@jupyter-widgets/base",
      "_view_module_version": "1.2.0",
      "_view_name": "StyleView",
      "description_width": ""
     }
    },
    "b411b864834e4fe491efb586891e08be": {
     "model_module": "@jupyter-widgets/base",
     "model_module_version": "1.2.0",
     "model_name": "LayoutModel",
     "state": {
      "_model_module": "@jupyter-widgets/base",
      "_model_module_version": "1.2.0",
      "_model_name": "LayoutModel",
      "_view_count": null,
      "_view_module": "@jupyter-widgets/base",
      "_view_module_version": "1.2.0",
      "_view_name": "LayoutView",
      "align_content": null,
      "align_items": null,
      "align_self": null,
      "border": null,
      "bottom": null,
      "display": null,
      "flex": null,
      "flex_flow": null,
      "grid_area": null,
      "grid_auto_columns": null,
      "grid_auto_flow": null,
      "grid_auto_rows": null,
      "grid_column": null,
      "grid_gap": null,
      "grid_row": null,
      "grid_template_areas": null,
      "grid_template_columns": null,
      "grid_template_rows": null,
      "height": null,
      "justify_content": null,
      "justify_items": null,
      "left": null,
      "margin": null,
      "max_height": null,
      "max_width": null,
      "min_height": null,
      "min_width": null,
      "object_fit": null,
      "object_position": null,
      "order": null,
      "overflow": null,
      "overflow_x": null,
      "overflow_y": null,
      "padding": null,
      "right": null,
      "top": null,
      "visibility": null,
      "width": null
     }
    },
    "bc3f6002a7624e158ea91a9329c53daa": {
     "model_module": "@jupyter-widgets/base",
     "model_module_version": "1.2.0",
     "model_name": "LayoutModel",
     "state": {
      "_model_module": "@jupyter-widgets/base",
      "_model_module_version": "1.2.0",
      "_model_name": "LayoutModel",
      "_view_count": null,
      "_view_module": "@jupyter-widgets/base",
      "_view_module_version": "1.2.0",
      "_view_name": "LayoutView",
      "align_content": null,
      "align_items": null,
      "align_self": null,
      "border": null,
      "bottom": null,
      "display": null,
      "flex": null,
      "flex_flow": null,
      "grid_area": null,
      "grid_auto_columns": null,
      "grid_auto_flow": null,
      "grid_auto_rows": null,
      "grid_column": null,
      "grid_gap": null,
      "grid_row": null,
      "grid_template_areas": null,
      "grid_template_columns": null,
      "grid_template_rows": null,
      "height": null,
      "justify_content": null,
      "justify_items": null,
      "left": null,
      "margin": null,
      "max_height": null,
      "max_width": null,
      "min_height": null,
      "min_width": null,
      "object_fit": null,
      "object_position": null,
      "order": null,
      "overflow": null,
      "overflow_x": null,
      "overflow_y": null,
      "padding": null,
      "right": null,
      "top": null,
      "visibility": null,
      "width": null
     }
    },
    "de1a21d1a52e47b0a4f31efb9d16dff4": {
     "model_module": "@jupyter-widgets/controls",
     "model_module_version": "1.5.0",
     "model_name": "HTMLModel",
     "state": {
      "_dom_classes": [],
      "_model_module": "@jupyter-widgets/controls",
      "_model_module_version": "1.5.0",
      "_model_name": "HTMLModel",
      "_view_count": null,
      "_view_module": "@jupyter-widgets/controls",
      "_view_module_version": "1.5.0",
      "_view_name": "HTMLView",
      "description": "",
      "description_tooltip": null,
      "layout": "IPY_MODEL_b411b864834e4fe491efb586891e08be",
      "placeholder": "​",
      "style": "IPY_MODEL_a27388e631c74b9f9a46a7e82154d3a3",
      "value": "100%"
     }
    },
    "e4bfa34dd07949e4811a410ad95934a8": {
     "model_module": "@jupyter-widgets/controls",
     "model_module_version": "1.5.0",
     "model_name": "HBoxModel",
     "state": {
      "_dom_classes": [],
      "_model_module": "@jupyter-widgets/controls",
      "_model_module_version": "1.5.0",
      "_model_name": "HBoxModel",
      "_view_count": null,
      "_view_module": "@jupyter-widgets/controls",
      "_view_module_version": "1.5.0",
      "_view_name": "HBoxView",
      "box_style": "",
      "children": [
       "IPY_MODEL_de1a21d1a52e47b0a4f31efb9d16dff4",
       "IPY_MODEL_4bf1dcfc17d74e22b2fc7a25ab0b3a1e",
       "IPY_MODEL_ee51f227fa864f868847e1025ff861ad"
      ],
      "layout": "IPY_MODEL_67269f2d7ad94ec599ef917429d67e04"
     }
    },
    "ee51f227fa864f868847e1025ff861ad": {
     "model_module": "@jupyter-widgets/controls",
     "model_module_version": "1.5.0",
     "model_name": "HTMLModel",
     "state": {
      "_dom_classes": [],
      "_model_module": "@jupyter-widgets/controls",
      "_model_module_version": "1.5.0",
      "_model_name": "HTMLModel",
      "_view_count": null,
      "_view_module": "@jupyter-widgets/controls",
      "_view_module_version": "1.5.0",
      "_view_name": "HTMLView",
      "description": "",
      "description_tooltip": null,
      "layout": "IPY_MODEL_633a5f810ab2470d8e5f07fea81039ca",
      "placeholder": "​",
      "style": "IPY_MODEL_6eee2d9262524d76983ea3886d9b6398",
      "value": " 36283/36283 [00:00&lt;00:00, 142630.11it/s]"
     }
    }
   }
  }
 },
 "nbformat": 4,
 "nbformat_minor": 1
}
